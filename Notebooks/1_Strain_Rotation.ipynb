{
 "cells": [
  {
   "cell_type": "markdown",
   "id": "6e727e04",
   "metadata": {},
   "source": [
    "# WP 5 Seismology\n",
    "## Exercises - Strain and Rotation\n",
    "\n",
    "The Exercises are taken from https://wolke.geophysik.uni-muenchen.de/s/FLn68bw4y4T9d3x?path=%2F01_strain.\n",
    "\n",
    "### 1\n",
    "1. Split the deformation tensor $\\epsilon_{ij}$ into one part that is pure shear (no volume change) and into one part that is pure volume change. Show using Gauss’ Law that the relative volume change is $\\epsilon_{ii}$ (follow lecture)."
   ]
  },
  {
   "cell_type": "markdown",
   "id": "cea79037",
   "metadata": {},
   "source": [
    "The deformation tensor represents the **symmetric** part within the relation between deformation and displacement in linear elasticity.\n",
    "\\begin{equation}\n",
    "\\epsilon_{ij} = \\frac{1}{2} ( \\frac{\\partial u_i}{\\partial x_j} + \\frac{\\partial u_j}{\\partial x_i})\n",
    "\\end{equation}\n",
    "\n",
    "Since we know that for example\n",
    "\\begin{equation}\n",
    "\\frac{\\partial u_y}{\\partial x} = \\partial_x u_y\n",
    "\\end{equation}\n",
    "\n",
    "We can rewrite the strain tensor (note the symmetry) as\n",
    "$$\\epsilon_{ij} = \\begin{pmatrix}\n",
    "\\partial_x u_x & \\frac{1}{2} (\\partial_x u_y + \\partial_y u_x) & \\frac{1}{2} (\\partial_x u_z + \\partial_z u_x) \\\\\n",
    "\\frac{1}{2} (\\partial_x u_y + \\partial_y u_x) & \\partial_y u_y & \\frac{1}{2} (\\partial_y u_z + \\partial_z u_y) \\\\\n",
    "\\frac{1}{2} (\\partial_x u_z + \\partial_z u_x) & \\frac{1}{2} (\\partial_y u_z + \\partial_z u_y) & \\partial_z u_z \\\\\n",
    "\\end{pmatrix}$$\n",
    "\n",
    "and split it into one part that is pure shear (off-diagonal elements representing no volume change)\n",
    "$$\\epsilon_{ij,Shear} = \\begin{pmatrix}\n",
    "0 & \\frac{1}{2} (\\partial_x u_y + \\partial_y u_x) & \\frac{1}{2} (\\partial_x u_z + \\partial_z u_x) \\\\\n",
    "\\frac{1}{2} (\\partial_x u_y + \\partial_y u_x) & 0 & \\frac{1}{2} (\\partial_y u_z + \\partial_z u_y) \\\\\n",
    "\\frac{1}{2} (\\partial_x u_z + \\partial_z u_x) & \\frac{1}{2} (\\partial_y u_z + \\partial_z u_y) & 0 \\\\\n",
    "\\end{pmatrix}$$\n",
    "\n",
    "and into one part that is pure volume change (diagonal components)\n",
    "$$\\epsilon_{ij,Volume} = \\begin{pmatrix}\n",
    "\\partial_x u_x & 0 & 0 \\\\\n",
    "0 & \\partial_y u_y & 0 \\\\\n",
    "0 & 0 & \\partial_z u_z \\\\\n",
    "\\end{pmatrix}$$"
   ]
  },
  {
   "cell_type": "markdown",
   "id": "a8ae031e",
   "metadata": {},
   "source": [
    "Consider now volume change. We know that\n",
    "\\begin{equation}\n",
    "\\Delta V = \\int_V \\nabla \\cdot \\vec{u} \\, dV\n",
    "\\end{equation}\n",
    "\n",
    "Now divide both sides through the volume V\n",
    "\\begin{equation}\n",
    "\\frac{\\Delta V}{V} = \\frac{1}{V} \\int_V \\nabla \\cdot \\vec{u} \\, dV\n",
    "\\end{equation}\n",
    "\n",
    "Apply the limes for V towards zero\n",
    "\\begin{equation}\n",
    "\\lim_{V \\to 0} \\frac{\\Delta V}{V} = \\Theta = \\epsilon_{ii}\n",
    "\\end{equation}\n",
    "\n",
    "We can apply the divergence operator on the displacement u and we obtain a curl-free part (P-waves)\n",
    "\\begin{equation}\n",
    "\\Theta = \\nabla \\cdot \\vec{u} = \\frac{\\partial u_1}{\\partial x_1} + \\frac{\\partial u_2}{\\partial x_2} + \\frac{\\partial u_3}{\\partial x_3} = \\epsilon_{11} + \\epsilon_{22} + \\epsilon_{33} = \\epsilon_{ii}\n",
    "\\end{equation}"
   ]
  },
  {
   "cell_type": "markdown",
   "id": "39e0c45a",
   "metadata": {},
   "source": [
    "### 2\n",
    "2. The interior of a volcano deforms in three directions (N,E,Z) by $\\Delta u$\n",
    "\t= (0.3, -0.1, 0.4) m for a hexahedral body of side length (1.5km,\n",
    "\t3.3km, 3km). Calculate the elements of the corresponding strain\n",
    "\tinside the body.2. "
   ]
  },
  {
   "cell_type": "code",
   "execution_count": 3,
   "id": "11f6accd",
   "metadata": {},
   "outputs": [
    {
     "name": "stdout",
     "output_type": "stream",
     "text": [
      "Length in km: [1500. 3300. 3000.]\n"
     ]
    }
   ],
   "source": [
    "import numpy as np\n",
    "\n",
    "deformation = [0.3, -0.1, 0.4] # m\n",
    "length = [1.5, 3.3, 3] # km\n",
    "\n",
    "length = 1000 * np.array(length)\n",
    "print(\"Length in km: {}\".format(length))"
   ]
  },
  {
   "cell_type": "code",
   "execution_count": 2,
   "id": "b655800a",
   "metadata": {},
   "outputs": [],
   "source": [
    "def calculate_strain_tensor3D(du, u):\n",
    "    e11 = du[0] / u[0]\n",
    "    e12 = 0.5 * (du[0] / u[1] + du[1] / u[0])\n",
    "    e13 = 0.5 * (du[0] / u[2] + du[2] / u[0])\n",
    "    \n",
    "    e21 = e12\n",
    "    e22 = du[1] / u[1]\n",
    "    e23 = 0.5 * (du[1] / u[2] + du[2] / u[1])\n",
    "\n",
    "    e31 = e13\n",
    "    e32 = e23\n",
    "    e33 = du[2] / u[2]\n",
    "    \n",
    "    print(\"Strain tensor:\\n{:06f}\\t{:06f}\\t{:06f}\\n{:06f}\\t{:06f}\\t{:06f}\\n{:06f}\\t{:06f}\\t{:06f}\\n\"\n",
    "         .format(e11, e12, e13, e21, e22, e23, e31, e32, e33))"
   ]
  },
  {
   "cell_type": "code",
   "execution_count": 3,
   "id": "a91722ff",
   "metadata": {},
   "outputs": [
    {
     "name": "stdout",
     "output_type": "stream",
     "text": [
      "Strain tensor:\n",
      "0.000200\t0.000012\t0.000183\n",
      "0.000012\t-0.000030\t0.000044\n",
      "0.000183\t0.000044\t0.000133\n",
      "\n"
     ]
    }
   ],
   "source": [
    "calculate_strain_tensor3D(deformation, length)"
   ]
  },
  {
   "cell_type": "markdown",
   "id": "018261a1",
   "metadata": {},
   "source": [
    "**BUT**, the strain tensor above is wrong!\n",
    "\n",
    "Why?\n",
    "- note that there exists no dependencies of the deformation on the other variables\n",
    "- $\\partial_x u_y = \\frac{\\partial u_y}{\\partial x} = \\frac{\\partial u_x}{\\partial y} = \\frac{\\partial u_x}{\\partial z} = \\frac{\\partial u_z}{\\partial x} = \\frac{\\partial u_y}{\\partial z} = \\frac{\\partial u_z}{\\partial y} = 0$ "
   ]
  },
  {
   "cell_type": "markdown",
   "id": "a6c49489",
   "metadata": {},
   "source": [
    "### 3\n",
    "3. Write a Jupyter notebook that calculates the action of an arbitrary strain field in 2D (tensor) on a vector and visualize the result. Define vectors a and b and calculate with vector operations the area of the parallelogram it spans. Quantify the area change due to the strain field.\n",
    "\n",
    "Help: use [quiver](https://matplotlib.org/stable/api/_as_gen/matplotlib.pyplot.quiver.html)"
   ]
  },
  {
   "cell_type": "code",
   "execution_count": 10,
   "id": "c9b501e1",
   "metadata": {},
   "outputs": [],
   "source": [
    "import matplotlib.pyplot as plt"
   ]
  },
  {
   "cell_type": "code",
   "execution_count": 7,
   "id": "25358028",
   "metadata": {},
   "outputs": [
    {
     "name": "stdout",
     "output_type": "stream",
     "text": [
      "a = [2 0], b = [1 1]\n",
      "Random strain field:\n",
      " [[0 1]\n",
      " [2 3]]\n",
      "Area before strain: 2\n",
      "Area after strain: 4\n"
     ]
    },
    {
     "data": {
      "image/png": "[encoded data removed]",
      "text/plain": [
       "<Figure size 432x288 with 1 Axes>"
      ]
     },
     "metadata": {
      "needs_background": "light"
     },
     "output_type": "display_data"
    }
   ],
   "source": [
    "# arbitrary vectors\n",
    "a = np.random.randint(0,4,2)\n",
    "b = np.random.randint(0,4,2)\n",
    "print(\"a = {}, b = {}\".format(a,b))\n",
    "\n",
    "# arbitrary strain field\n",
    "arr = np.random.randint(0,4,4)\n",
    "strain2D = np.reshape(arr, (2,2))\n",
    "print(\"Random strain field:\\n {}\".format(strain2D))\n",
    "\n",
    "# Area prior deformation\n",
    "area_prior = abs(np.cross(a,b))\n",
    "print(\"Area before strain: {}\".format(area_prior))\n",
    "\n",
    "# Deformation w.r.t vectors (slide 17)\n",
    "a2 =  strain2D @ a\n",
    "b2 =  strain2D @ b\n",
    "\n",
    "# Area post deformation\n",
    "a_post =  a + strain2D @ a\n",
    "b_post =  b + strain2D @ b\n",
    "area_post = abs(np.cross(a_post,b_post))\n",
    "print(\"Area after strain: {}\".format(area_post))\n",
    "\n",
    "# Plot\n",
    "fig, ax = plt.subplots()\n",
    "\n",
    "# origin\n",
    "tail = [[0, 0, 0, 0], [0, 0, 0, 0]]\n",
    "\n",
    "ax.quiver(*tail,\n",
    "          [a[0], b[0], a_post[0], b_post[0]],\n",
    "          [a[1], b[1], a_post[1], b_post[1]],\n",
    "          color=['r', 'r', 'b', 'b'],\n",
    "          angles='xy', scale_units='xy', scale=1)\n",
    "#ax.axis([min(min(a),min(b),min(a_post),min(b_post)),max(max(a),max(b),max(a_post),max(b_post)),min(min(a),min(b),min(a_post),min(b_post)),max(max(a),max(b),max(a_post),max(b_post))])\n",
    "ax.axis([-10,10, -10,10])\n",
    "plt.show()"
   ]
  },
  {
   "cell_type": "code",
   "execution_count": 8,
   "id": "e70bad70",
   "metadata": {},
   "outputs": [
    {
     "data": {
      "image/png": "[encoded data removed]",
      "text/plain": [
       "<Figure size 432x288 with 1 Axes>"
      ]
     },
     "metadata": {
      "needs_background": "light"
     },
     "output_type": "display_data"
    }
   ],
   "source": [
    "# Plot - add vector from Slide 17\n",
    "fig, ax = plt.subplots()\n",
    "\n",
    "# adjusted origin\n",
    "tail = [[0, 0, a[0], b[0], 0, 0], [0, 0, a[1], b[1], 0, 0]]\n",
    "\n",
    "ax.quiver(*tail,\n",
    "          [a[0], b[0], a2[0], b2[0], a_post[0], b_post[0]],\n",
    "          [a[1], b[1], a2[1], b2[1], a_post[1], b_post[1]],\n",
    "          color=['r', 'r', 'b', 'b', 'g', 'g'],\n",
    "          angles='xy', scale_units='xy', scale=1)\n",
    "#ax.axis([min(min(a),min(b),min(a_post),min(b_post)),max(max(a),max(b),max(a_post),max(b_post)),min(min(a),min(b),min(a_post),min(b_post)),max(max(a),max(b),max(a_post),max(b_post))])\n",
    "ax.axis([-10,10, -10,10])\n",
    "plt.show()"
   ]
  },
  {
   "cell_type": "markdown",
   "id": "b7cd9c0b",
   "metadata": {},
   "source": [
    "### 4 \n",
    "4. Using the results from the previous notebook compare for appropriate strain\n",
    "\ttensors the length change (before deformation after deformation)\n",
    "\tusing vector operations (exact) and the linearization (l0\n",
    "\tis length of y, l is length of y after deformation)."
   ]
  },
  {
   "cell_type": "code",
   "execution_count": 8,
   "id": "ce191bf0",
   "metadata": {},
   "outputs": [
    {
     "name": "stdout",
     "output_type": "stream",
     "text": [
      "y = [1 0]\n",
      "Random strain field:\n",
      " [[1 2]\n",
      " [2 3]]\n",
      "y_post = [2 2]\n",
      "Length of y prior: 1.0\n",
      "Length of y post (vector operation): 2.8284271247461903\n",
      "Relative length change (exact): 1.8284271247461903\n",
      "Relative length change (linearization): 1.0\n"
     ]
    }
   ],
   "source": [
    "#y = np.random.randint(0,4,2)\n",
    "#print(\"y = {}\".format(y))\n",
    "#\n",
    "## arbitrary strain field\n",
    "#arr = np.random.randint(0,4,4)\n",
    "#strain2D = np.reshape(arr, (2,2))\n",
    "##strain2D = 1e-7 * np.array(strain2D)\n",
    "#print(\"Random strain field:\\n {}\".format(strain2D))\n",
    "\n",
    "# from Nico\n",
    "y = np.array([1,0])\n",
    "strain2D = np.array(([1,2], [2,3])) #* 1e-6\n",
    "print(\"y = {}\".format(y))\n",
    "print(\"Random strain field:\\n {}\".format(strain2D))\n",
    "\n",
    "\n",
    "# post deformation - vector operation\n",
    "y_post = y + strain2D @ y\n",
    "print(\"y_post = {}\".format(y_post))\n",
    "\n",
    "\n",
    "print(f\"Length of y prior: {np.linalg.norm(y)}\")\n",
    "print(f\"Length of y post (vector operation): {np.linalg.norm(y_post)}\")\n",
    "print(f\"Relative length change (exact): {(np.linalg.norm(y_post) - np.linalg.norm(y)) / np.linalg.norm(y)}\")\n",
    "\n",
    "# post deformation - linearization (slide 22)\n",
    "rlc = 0 # initialize relative length change\n",
    "for i in range(2):\n",
    "    for j in range(2):\n",
    "        rlc = rlc + strain2D[i,j] * y[i] * y[j] / (np.linalg.norm(y)**2)\n",
    "#rlc = rlc / (np.linalg.norm(y)**2)\n",
    "\n",
    "print(f\"Relative length change (linearization): {rlc}\")"
   ]
  },
  {
   "cell_type": "markdown",
   "id": "806dc259",
   "metadata": {},
   "source": [
    "### 5 old.\n",
    "5. What is the action of $\\xi_{ij}$ - the antisymmetric part of the gradient - on vector y? Write a Jupyter notebook to calculate, quantify, and visualize that action.\n",
    "\n",
    "The rotation tensor represents the **anti-symmetric** part within the relation between deformation and displacement in linear elasticity.\n",
    "\\begin{equation}\n",
    "\\xi{ij} = \\frac{1}{2} ( \\frac{\\partial u_i}{\\partial x_j} - \\frac{\\partial u_j}{\\partial x_i})\n",
    "\\end{equation}\n",
    "\n",
    "and can be written in 3D as follows:\n",
    "$$\\xi{ij} = \\begin{pmatrix}\n",
    "0 & \\xi{12} & \\xi{13} \\\\\n",
    "-\\xi{12} & 0 & \\xi{23} \\\\\n",
    "-\\xi{13} & -\\xi{23} & 0 \\\\\n",
    "\\end{pmatrix}$$\n",
    "\n",
    "Furthermore it exists the following equation for a rigid body rotation:\n",
    "\\begin{equation}\n",
    "\\vec{\\xi} \\times \\vec{y}\n",
    "\\end{equation}"
   ]
  },
  {
   "cell_type": "code",
   "execution_count": 11,
   "id": "80b2e0ba",
   "metadata": {},
   "outputs": [
    {
     "name": "stdout",
     "output_type": "stream",
     "text": [
      "xi = \n",
      "[[ 0  1]\n",
      " [-1  0]]\n",
      "y = [1 0]\n",
      "Action = [-1  0]\n"
     ]
    },
    {
     "data": {
      "image/png": "[encoded data removed]",
      "text/plain": [
       "<Figure size 432x288 with 1 Axes>"
      ]
     },
     "metadata": {
      "needs_background": "light"
     },
     "output_type": "display_data"
    }
   ],
   "source": [
    "# Assume 2D only and the folllowing rotation tensor\n",
    "xi = np.array(([0,1], [-1,0]))\n",
    "print(\"xi = \\n{}\".format(xi))\n",
    "\n",
    "# y comes from Exercise 4\n",
    "print(\"y = {}\".format(y))\n",
    "\n",
    "# Calculate action\n",
    "action = np.cross(xi,y)\n",
    "#action = y + xi @ y\n",
    "# Which of these ones to use?\n",
    "print(\"Action = {}\".format(action))\n",
    "\n",
    "# Plot action\n",
    "fig, ax = plt.subplots()\n",
    "\n",
    "# origin\n",
    "tail = [[0, 0], [0, 0]]\n",
    "\n",
    "ax.quiver(*tail,\n",
    "          [y[0], action[0]],\n",
    "          [y[1], action[1]],\n",
    "          color=['r', 'b'],\n",
    "          angles='xy', scale_units='xy', scale=1)\n",
    "ax.axis([-10,10, -10,10])\n",
    "plt.show()"
   ]
  },
  {
   "cell_type": "markdown",
   "id": "c7e9be34",
   "metadata": {},
   "source": [
    "double check result above!!\n",
    "\n",
    "y2 = y + rot_2d @ y  ??"
   ]
  },
  {
   "cell_type": "markdown",
   "id": "1c76f8b3",
   "metadata": {},
   "source": [
    "### 5. new\n",
    "5. A coordinate system is defined such that x-E, y-N, z-vertical. A plane shear wave is propagating horizontally at an angle of 10°  (counterclockwise) w.r.t. the x-axis.  The amplitude is 1nm, the frequency is 0.1Hz and the phase velocity is 4km/s. Formulate a sinusoidal displacement field u and its gradient components 𝜕𝑗𝑢𝑖. Derive the elements of the strain and rotation tensors. What is the action of the rotation tensor on an arbitrary vector inside the medium? Hint: You can also formulate it generally in terms of amplitudes, propagation direction etc in a Jupyter notebook. It might also be interesting to show the motions of all (non-zero) displacement, strain, and rotation components."
   ]
  },
  {
   "cell_type": "code",
   "execution_count": 5,
   "id": "8e2d4ff5",
   "metadata": {},
   "outputs": [],
   "source": [
    "alpha = 10\n",
    "A = 1e-9\n",
    "f = 0.1 \n",
    "T = 1/f\n",
    "c = 4000 "
   ]
  },
  {
   "cell_type": "code",
   "execution_count": 6,
   "id": "2deebfd4",
   "metadata": {},
   "outputs": [
    {
     "ename": "NameError",
     "evalue": "name 'x' is not defined",
     "output_type": "error",
     "traceback": [
      "\u001b[1;31m---------------------------------------------------------------------------\u001b[0m",
      "\u001b[1;31mNameError\u001b[0m                                 Traceback (most recent call last)",
      "\u001b[1;32m~\\AppData\\Local\\Temp/ipykernel_203876/3304554855.py\u001b[0m in \u001b[0;36m<module>\u001b[1;34m\u001b[0m\n\u001b[0;32m      4\u001b[0m \u001b[0mt\u001b[0m \u001b[1;33m=\u001b[0m \u001b[0mnp\u001b[0m\u001b[1;33m.\u001b[0m\u001b[0mlinspace\u001b[0m\u001b[1;33m(\u001b[0m\u001b[1;36m0\u001b[0m\u001b[1;33m,\u001b[0m\u001b[1;36m100\u001b[0m\u001b[1;33m,\u001b[0m\u001b[1;36m1000\u001b[0m\u001b[1;33m)\u001b[0m\u001b[1;33m\u001b[0m\u001b[1;33m\u001b[0m\u001b[0m\n\u001b[0;32m      5\u001b[0m \u001b[1;33m\u001b[0m\u001b[0m\n\u001b[1;32m----> 6\u001b[1;33m \u001b[0mu\u001b[0m \u001b[1;33m=\u001b[0m \u001b[0mA\u001b[0m \u001b[1;33m*\u001b[0m \u001b[0mnp\u001b[0m\u001b[1;33m.\u001b[0m\u001b[0msin\u001b[0m\u001b[1;33m(\u001b[0m\u001b[0mnp\u001b[0m\u001b[1;33m.\u001b[0m\u001b[0mdot\u001b[0m\u001b[1;33m(\u001b[0m\u001b[0mk\u001b[0m\u001b[1;33m*\u001b[0m\u001b[0mx\u001b[0m\u001b[1;33m)\u001b[0m \u001b[1;33m-\u001b[0m \u001b[1;36m2\u001b[0m\u001b[1;33m*\u001b[0m\u001b[0mnp\u001b[0m\u001b[1;33m.\u001b[0m\u001b[0mpi\u001b[0m\u001b[1;33m*\u001b[0m\u001b[0mf\u001b[0m\u001b[1;33m*\u001b[0m\u001b[0mt\u001b[0m\u001b[1;33m)\u001b[0m\u001b[1;33m\u001b[0m\u001b[1;33m\u001b[0m\u001b[0m\n\u001b[0m",
      "\u001b[1;31mNameError\u001b[0m: name 'x' is not defined"
     ]
    }
   ],
   "source": [
    "angle = alpha * 2 * np.pi / 360 # in rad\n",
    "k = (c/f) * np.array ([np.cos(angle), np.sin(angle), 0])\n",
    "\n",
    "t = np.linspace(0,100,1000)\n",
    "\n",
    "u = A * np.sin(np.dot(k*x) - 2*np.pi*f*t)"
   ]
  },
  {
   "cell_type": "markdown",
   "id": "0808f2f6",
   "metadata": {},
   "source": [
    "### 6.\n",
    "6. Derive the equations for strain and rotation tensors from the formulation of the wavefield gradient."
   ]
  },
  {
   "cell_type": "markdown",
   "id": "80556e97",
   "metadata": {},
   "source": [
    "### 7.\n",
    "7. The motion of Rayleigh waves in a homogeneous halfspace can be described by (c is phase velocity, k is wavenumber)"
   ]
  },
  {
   "cell_type": "markdown",
   "id": "510a6538",
   "metadata": {},
   "source": [
    "### 8. \n",
    "8. The free surface condition implies that\n",
    "\n",
    "\\begin{equation}\n",
    "\\sigma_{i3} = 0 \\ \\ (i = x,y,z)\n",
    "\\end{equation}\n",
    "\n",
    "implies that\n",
    "\\begin{equation}\n",
    "\\frac{\\partial u_x}{\\partial x_z} = - \\frac{\\partial u_z}{\\partial x_x} \\ ; \\ \\frac{\\partial u_y}{\\partial x_z} = - \\frac{\\partial u_z}{\\partial x_y} \\ ; \\ \\frac{\\partial u_z}{\\partial x_z} = - \\frac{\\lambda}{\\lambda + 2 \\mu} \\cdot (\\frac{\\partial u_x}{\\partial x_x} + \\frac{\\partial u_y}{\\partial x_y})\n",
    "\\end{equation}\n",
    "\n",
    "Assuming and isotropic stress-strain relation\n",
    "\\begin{equation}\n",
    "\\sigma_{ij} = \\lambda \\epsilon_{kk} \\delta_{ij} + 2\\mu \\epsilon_{ij}\n",
    "\\end{equation}\n",
    "\n",
    "Show that this implies at the free surface (geometrical meaning?)\n",
    "\\begin{equation}\n",
    "\\omega_x = \\frac{\\partial u_z}{\\partial x_y} \\ ; \\ \\omega_y = - \\frac{\\partial u_z}{\\partial x_x}\n",
    "\\end{equation}\n",
    "\n",
    "\n",
    "*Solution:*\n",
    "We know that for rotation\n",
    "\\begin{equation}\n",
    "\\vec{\\omega} = \\frac{1}{2} \\nabla \\cdot \\vec{u}\n",
    "\\end{equation}\n",
    "\n",
    "\n",
    "\\begin{equation}\n",
    "\\Rightarrow \\omega_x = (\\frac{1}{2} \\nabla \\cdot u)_{x} = \\frac{1}{2} (\\partial x_y u_z - \\partial x_z u_y) = \\frac{1}{2} (\\frac{\\partial u_z}{\\partial x_y} - \\frac{\\partial u_y}{\\partial x_z} ) = \\frac{1}{2} (\\frac{\\partial u_z}{\\partial x_y} - - \\frac{\\partial u_z}{\\partial x_y}) = \\frac{\\partial u_z}{\\partial x_y}\n",
    "\\end{equation}\n",
    "\n",
    "and \n",
    "\\begin{equation}\n",
    "\\Rightarrow \\omega_y = (\\frac{1}{2} \\nabla \\cdot u)_{y} = \\frac{1}{2} (\\partial x_z u_x - \\partial x_x u_z) = \\frac{1}{2} (\\frac{\\partial u_x}{\\partial x_z} - \\frac{\\partial u_z}{\\partial x_x} ) = \\frac{1}{2} (- \\frac{\\partial u_z}{\\partial x_x} - \\frac{\\partial u_z}{\\partial x_x}) = - \\frac{\\partial u_z}{\\partial x_x}\n",
    "\\end{equation}"
   ]
  },
  {
   "cell_type": "code",
   "execution_count": null,
   "id": "9d8e27de",
   "metadata": {},
   "outputs": [],
   "source": []
  },
  {
   "cell_type": "code",
   "execution_count": null,
   "id": "b62992e9",
   "metadata": {},
   "outputs": [],
   "source": []
  },
  {
   "cell_type": "markdown",
   "id": "beeed160",
   "metadata": {},
   "source": [
    "## Comprehensive questions\n",
    "### 9.\n",
    "What could be the reason why array-derived strain or rotation and directly measured strain or rotation are rarely the same (but very close)? What information could be contained in the differential observation?\n",
    "\n",
    "- slide 32: eta?\n",
    "- local heterogeneities because arrays measure an average over certain area\n",
    "- rotation/ strain measurement are point measurement\n",
    "- **size of array**\n",
    "    - too large: bad estimate of gradient\n",
    "    - too small: difference between signals gets too small so that you get noise\n",
    "    - optimal size for array derived properties \n",
    "- measurement errors\n",
    "- instruments themselves (orientation, tilt and perhaps coupling could be a problem)\n",
    "- signal-to-noise ratio could be different from instrument to instrument \n",
    "- instrument correction could be problematic (wrong correction leads to phase errors)\n",
    "- phase error big problem since we take difference of observations\n",
    "- differential observation: higher near receiver sensitivity\n",
    "- **heterogeneity**\n",
    "    - local heterogeneity in array plays an important role\n",
    "- **instument problems**\n",
    "\n",
    "Information obtained:\n",
    "- assuming information/ observations are correct, then the difference gives us information about local heterogeneities\n",
    "\n",
    "\n",
    "\n",
    "### 10.\n",
    "Normally three seismometer locations are required to determine the location of an earthquake in an elastic half space. Explain why – in principle – one 6-C (translation and rotation) record  may be enough to locate an earthquake (assume that you record both surface waves and body waves. \n",
    "\n",
    "- three seismometer: triangulation (draw circels and determine epicentre)\n",
    "- derive angle (backaziuth) from single station measuremnet\n",
    "- incident angle of incoming wave reuired + 1D velocity model the distance can be determined\n",
    "- 6C inclduead additional degrees of freedem (tradiational seismometer has less)\n",
    "- 6C sensor: surface waves are observed --> we get 1D velocity model (but, it is primariliy shear-velocity)\n",
    "- assume you have vp/ vs ratio $\\sqrt(3)$\n",
    "- assume you also have P-wave velcoity\n",
    "- assuming homogeneous medium (or if layering is known): you know distance and velocity and shot it back\n",
    "- from amplitude ratio you get phase velocity\n",
    "- @hongyi: distance\n",
    "\n",
    "### 11.\n",
    "Explain why the joint observation of rotation (strain) and translation has a strong near-receiver sensitivity. What are potential applications?\n",
    "\n",
    "- slide 54\n",
    "- kernels vanish at source\n",
    "- intuitively it makes sense\n",
    "- difference vs ratio ??? \n",
    "- DAS, blueSeis --> local tomography with gradient measurements (traveltimes & source baasically irrelevant) --> only sensitive to local strucute, not source structure\n",
    "- plane/ bird view (sorce bootm left, rceiver top right)\n",
    "- **inference of information of local heterogeneities near the receiver (high sensitivity)**\n",
    "\n",
    "### 12.\n",
    "As you know standard seismometer records have permanent signals generate in the oceans. Do you expect those signals also to appear on all rotation sensors components? Give reasons. \n",
    "\n",
    "- **Oceans mainly produce Rayleigh waves** and rotation sensors mainly record SH waves (in theory not visable)\n",
    "- Due to scattering lots of ocean generated noise is converted to Love waves and is recorded\n",
    "- (SH waves on vertical rotation component)\n",
    "- **Why do the oceans primarily Rayleigh waves: pressure signal is translated into vertical motion at seafloor**\n",
    "\n",
    "### 13. \n",
    "What do you think is more reliable in seismology: measurements of travel times (phase) or absolute amplitudes (as used to estimate ratios of strain/rotation and translations)\n",
    "\n",
    "- measurement of travel times in the classical sense\n",
    "- for banana-doughnet kerneks: traveltimes can irrelevalnt (example of borehole measurments)\n",
    "- but for correlation coeff: it's independent of amplitude \n",
    "- **Traveltimes and phase measurement are much more stable** even though more ambiguous\n",
    "- Amplitudes usually not used for Full-Waveform Inversion --> but due to improved stations make more use of amplitudes to constrain structure\n",
    "- Arival time differences contain information about interior properties\n",
    "\n",
    "\n",
    "### 14.\n",
    "DAS (distributed acoustic sensing) allows measuring along-cable strains. Is it possible to distinguish shear and P waves?\n",
    "- DAS can only measure longitudtina lstrains, thus P-waves?\n",
    "- one can distuingish!\n",
    "- one might need more than one cable to distuinginh\n",
    "\n",
    "- Depends on configuration of DAS cable, but it should be possible\n",
    "\n",
    "- Amplitude in DAS recording is uncertain!\n"
   ]
  }
 ],
 "metadata": {
  "kernelspec": {
   "display_name": "Python 3 (ipykernel)",
   "language": "python",
   "name": "python3"
  },
  "language_info": {
   "codemirror_mode": {
    "name": "ipython",
    "version": 3
   },
   "file_extension": ".py",
   "mimetype": "text/x-python",
   "name": "python",
   "nbconvert_exporter": "python",
   "pygments_lexer": "ipython3",
   "version": "3.9.7"
  }
 },
 "nbformat": 4,
 "nbformat_minor": 5
}
