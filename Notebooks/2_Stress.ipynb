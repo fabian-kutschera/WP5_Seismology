{
 "cells": [
  {
   "cell_type": "markdown",
   "id": "1ca93c6f",
   "metadata": {},
   "source": [
    "# WP 5 Seismology\n",
    "## Exercises - Stress\n",
    "\n",
    "The Exercises are taken from https://wolke.geophysik.uni-muenchen.de/s/FLn68bw4y4T9d3x?dir=undefined&path=%2F02_stress&openfile=1221306."
   ]
  },
  {
   "cell_type": "code",
   "execution_count": 12,
   "id": "18d694cc",
   "metadata": {},
   "outputs": [
    {
     "ename": "ModuleNotFoundError",
     "evalue": "No module named 'mpl_toolkits.mplot3D'",
     "output_type": "error",
     "traceback": [
      "\u001b[1;31m---------------------------------------------------------------------------\u001b[0m",
      "\u001b[1;31mModuleNotFoundError\u001b[0m                       Traceback (most recent call last)",
      "\u001b[1;32m~\\AppData\\Local\\Temp/ipykernel_197160/2607772963.py\u001b[0m in \u001b[0;36m<module>\u001b[1;34m\u001b[0m\n\u001b[0;32m      1\u001b[0m \u001b[1;32mimport\u001b[0m \u001b[0mnumpy\u001b[0m \u001b[1;32mas\u001b[0m \u001b[0mnp\u001b[0m\u001b[1;33m\u001b[0m\u001b[1;33m\u001b[0m\u001b[0m\n\u001b[0;32m      2\u001b[0m \u001b[1;32mimport\u001b[0m \u001b[0mmatplotlib\u001b[0m\u001b[1;33m.\u001b[0m\u001b[0mpyplot\u001b[0m \u001b[1;32mas\u001b[0m \u001b[0mplt\u001b[0m\u001b[1;33m\u001b[0m\u001b[1;33m\u001b[0m\u001b[0m\n\u001b[1;32m----> 3\u001b[1;33m \u001b[1;32mfrom\u001b[0m \u001b[0mmpl_toolkits\u001b[0m\u001b[1;33m.\u001b[0m\u001b[0mmplot3D\u001b[0m \u001b[1;32mimport\u001b[0m \u001b[0mAxes3D\u001b[0m\u001b[1;33m\u001b[0m\u001b[1;33m\u001b[0m\u001b[0m\n\u001b[0m",
      "\u001b[1;31mModuleNotFoundError\u001b[0m: No module named 'mpl_toolkits.mplot3D'"
     ]
    }
   ],
   "source": [
    "import numpy as np\n",
    "import matplotlib.pyplot as plt\n",
    "from mpl_toolkits.mplot3D import Axes3D"
   ]
  },
  {
   "cell_type": "markdown",
   "id": "fca0f11a",
   "metadata": {},
   "source": [
    "### 2.\n",
    "Calculate the principal stresses (eigenvalues) and their directions. What is the direction of the largest stress (i.e., angels with the axes)? \n",
    "\n",
    "Hint: Best to do this with a Jupyter notebook. Try to plot the principle stress directions in 3D with arrows (or an ellipsoid). "
   ]
  },
  {
   "cell_type": "code",
   "execution_count": 10,
   "id": "3a07d338",
   "metadata": {},
   "outputs": [
    {
     "name": "stdout",
     "output_type": "stream",
     "text": [
      "[[ 0.25       -1.25        0.35355339]\n",
      " [-1.25        0.25       -0.35355339]\n",
      " [ 0.35355339 -0.35355339  1.5       ]]\n",
      "The eigenvalues are [-1.  1.  2.]\n",
      "The eigenvectors are \n",
      "[[ 7.07106781e-01  5.00000000e-01  5.00000000e-01]\n",
      " [ 7.07106781e-01 -5.00000000e-01 -5.00000000e-01]\n",
      " [ 9.38783434e-18 -7.07106781e-01  7.07106781e-01]]\n"
     ]
    }
   ],
   "source": [
    "# Initizalize array\n",
    "stress = np.array([[1/4, -5/4, (1/2)**(3/2)], [-5/4, 1/4, -(1/2)**(3/2)], [(1/2)**(3/2), -(1/2)**(3/2), 3/2]])\n",
    "print(stress)\n",
    "\n",
    "# Calculate eigenvalues and vectors\n",
    "w, v = np.linalg.eig(stress)\n",
    "\n",
    "print(\"The eigenvalues are {}\".format(w))\n",
    "\n",
    "print(\"The eigenvectors are \\n{}\".format(v))"
   ]
  },
  {
   "cell_type": "code",
   "execution_count": null,
   "id": "7a4f1702",
   "metadata": {},
   "outputs": [],
   "source": [
    "# Plot principle stress directions in 3D\n",
    "fig = plt.figure()\n",
    "ax = fig.add_subplot(111, project=)"
   ]
  }
 ],
 "metadata": {
  "kernelspec": {
   "display_name": "Python 3 (ipykernel)",
   "language": "python",
   "name": "python3"
  },
  "language_info": {
   "codemirror_mode": {
    "name": "ipython",
    "version": 3
   },
   "file_extension": ".py",
   "mimetype": "text/x-python",
   "name": "python",
   "nbconvert_exporter": "python",
   "pygments_lexer": "ipython3",
   "version": "3.9.7"
  }
 },
 "nbformat": 4,
 "nbformat_minor": 5
}
