{
 "cells": [
  {
   "cell_type": "markdown",
   "id": "6e727e04",
   "metadata": {},
   "source": [
    "# WP 5 Seismology\n",
    "## Exercises - Strain and Rotation\n",
    "\n",
    "The Exercises are taken from https://wolke.geophysik.uni-muenchen.de/s/FLn68bw4y4T9d3x?path=%2F01_strain.\n",
    "\n",
    "### #1\n",
    "1. Split the deformation tensor $\\epsilon_{ij}$ into one part that is pure shear (no volume change) and into one part that is pure volume change. Show using Gauss’ Law that the relative volume change is $\\epsilon_{ii}$ (follow lecture)."
   ]
  },
  {
   "cell_type": "markdown",
   "id": "cea79037",
   "metadata": {},
   "source": [
    "The deformation tensor represents the **symmetric** part within the relation between deformation and displacement in linear elasticity.\n",
    "\\begin{equation}\n",
    "\\epsilon_{ij} = \\frac{1}{2} ( \\frac{\\partial u_i}{\\partial x_j} + \\frac{\\partial u_j}{\\partial x_i})\n",
    "\\end{equation}\n",
    "\n",
    "Since we know that for example\n",
    "\\begin{equation}\n",
    "\\frac{\\partial u_y}{\\partial x} = \\partial_x u_y\n",
    "\\end{equation}\n",
    "\n",
    "We can rewrite the strain tensor (note the symmetry) as\n",
    "$$\\epsilon_{ij} = \\begin{pmatrix}\n",
    "\\partial_x u_x & \\frac{1}{2} (\\partial_x u_y + \\partial_y u_x) & \\frac{1}{2} (\\partial_x u_z + \\partial_z u_x) \\\\\n",
    "\\frac{1}{2} (\\partial_x u_y + \\partial_y u_x) & \\partial_y u_y & \\frac{1}{2} (\\partial_y u_z + \\partial_z u_y) \\\\\n",
    "\\frac{1}{2} (\\partial_x u_z + \\partial_z u_x) & \\frac{1}{2} (\\partial_y u_z + \\partial_z u_y) & \\partial_z u_z \\\\\n",
    "\\end{pmatrix}$$\n",
    "\n",
    "and split it into one part that is pure shear (off-diagonal elements representing no volume change)\n",
    "$$\\epsilon_{ij,Shear} = \\begin{pmatrix}\n",
    "0 & \\frac{1}{2} (\\partial_x u_y + \\partial_y u_x) & \\frac{1}{2} (\\partial_x u_z + \\partial_z u_x) \\\\\n",
    "\\frac{1}{2} (\\partial_x u_y + \\partial_y u_x) & 0 & \\frac{1}{2} (\\partial_y u_z + \\partial_z u_y) \\\\\n",
    "\\frac{1}{2} (\\partial_x u_z + \\partial_z u_x) & \\frac{1}{2} (\\partial_y u_z + \\partial_z u_y) & 0 \\\\\n",
    "\\end{pmatrix}$$\n",
    "\n",
    "and into one part that is pure volume change (diagonal components)\n",
    "$$\\epsilon_{ij,Volume} = \\begin{pmatrix}\n",
    "\\partial_x u_x & 0 & 0 \\\\\n",
    "0 & \\partial_y u_y & 0 \\\\\n",
    "0 & 0 & \\partial_z u_z \\\\\n",
    "\\end{pmatrix}$$"
   ]
  },
  {
   "cell_type": "markdown",
   "id": "a8ae031e",
   "metadata": {},
   "source": [
    "Consider now volume change. We know that\n",
    "\\begin{equation}\n",
    "\\Delta V = \\int_V \\nabla \\cdot \\vec{u} \\, dV\n",
    "\\end{equation}\n",
    "\n",
    "Now divide both sides through the volume V\n",
    "\\begin{equation}\n",
    "\\frac{\\Delta V}{V} = \\frac{1}{V} \\int_V \\nabla \\cdot \\vec{u} \\, dV\n",
    "\\end{equation}\n",
    "\n",
    "Apply the limes for V towards zero\n",
    "\\begin{equation}\n",
    "\\lim_{V \\to 0} \\frac{\\Delta V}{V} = \\Theta = \\epsilon_{ii}\n",
    "\\end{equation}\n",
    "\n",
    "We can apply the divergence operator on the displacement u and we obtain a curl-free part (P-waves)\n",
    "\\begin{equation}\n",
    "\\Theta = \\nabla \\cdot \\vec{u} = \\frac{\\partial u_1}{\\partial x_1} + \\frac{\\partial u_2}{\\partial x_2} + \\frac{\\partial u_3}{\\partial x_3} = \\epsilon_{11} + \\epsilon_{22} + \\epsilon_{33} = \\epsilon_{ii}\n",
    "\\end{equation}"
   ]
  },
  {
   "cell_type": "markdown",
   "id": "39e0c45a",
   "metadata": {},
   "source": [
    "### #2\n",
    "2. The interior of a volcano deforms in three directions (N,E,Z) by $\\Delta u$\n",
    "\t= (0.3, -0.1, 0.4) m for a hexahedral body of side length (1.5km,\n",
    "\t3.3km, 3km). Calculate the elements of the corresponding strain\n",
    "\tinside the body.2. "
   ]
  },
  {
   "cell_type": "code",
   "execution_count": 10,
   "id": "11f6accd",
   "metadata": {},
   "outputs": [
    {
     "name": "stdout",
     "output_type": "stream",
     "text": [
      "Length in km: [1500. 3300. 3000.]\n"
     ]
    }
   ],
   "source": [
    "import numpy as np\n",
    "\n",
    "deformation = [0.3, -0.1, 0.4] # m\n",
    "length = [1.5, 3.3, 3] # km\n",
    "\n",
    "length = 1000 * np.array(length)\n",
    "print(\"Length in km: {}\".format(length))"
   ]
  },
  {
   "cell_type": "code",
   "execution_count": 30,
   "id": "b655800a",
   "metadata": {},
   "outputs": [],
   "source": [
    "def calculate_strain_tensor3D(du, u):\n",
    "    e11 = du[0] / u[0]\n",
    "    e12 = 0.5 * (du[0] / u[1] + du[1] / u[0])\n",
    "    e13 = 0.5 * (du[0] / u[2] + du[2] / u[0])\n",
    "    \n",
    "    e21 = e12\n",
    "    e22 = du[1] / u[1]\n",
    "    e23 = 0.5 * (du[1] / u[2] + du[2] / u[1])\n",
    "\n",
    "    e31 = e13\n",
    "    e32 = e23\n",
    "    e33 = du[2] / u[2]\n",
    "    \n",
    "    print(\"Strain tensor:\\n{:06f}\\t{:06f}\\t{:06f}\\n{:06f}\\t{:06f}\\t{:06f}\\n{:06f}\\t{:06f}\\t{:06f}\\n\"\n",
    "         .format(e11, e12, e13, e21, e22, e23, e31, e32, e33))"
   ]
  },
  {
   "cell_type": "code",
   "execution_count": 31,
   "id": "a91722ff",
   "metadata": {},
   "outputs": [
    {
     "name": "stdout",
     "output_type": "stream",
     "text": [
      "Strain tensor:\n",
      "0.000200\t0.000012\t0.000183\n",
      "0.000012\t-0.000030\t0.000044\n",
      "0.000183\t0.000044\t0.000133\n",
      "\n"
     ]
    }
   ],
   "source": [
    "calculate_strain_tensor3D(deformation, length)"
   ]
  },
  {
   "cell_type": "markdown",
   "id": "018261a1",
   "metadata": {},
   "source": [
    "**BUT**, the strain tensor above is wrong!\n",
    "\n",
    "Why?\n",
    "- note that there exists no dependencies of the deformation on the other variables\n",
    "- $\\partial_x u_y = \\frac{\\partial u_y}{\\partial x} = \\frac{\\partial u_x}{\\partial y} = \\frac{\\partial u_x}{\\partial z} = \\frac{\\partial u_z}{\\partial x} = \\frac{\\partial u_y}{\\partial z} = \\frac{\\partial u_z}{\\partial y} = 0$ "
   ]
  },
  {
   "cell_type": "markdown",
   "id": "a6c49489",
   "metadata": {},
   "source": [
    "### #3\n",
    "3. Write a Jupyter notebook that calculates the action of an arbitrary strain field in 2D (tensor) on a vector and visualize the result. Define vectors a and b and calculate with vector operations the area of the parallelogram it spans. Quantify the area change due to the strain field.\n",
    "\n",
    "Help: use [quiver](https://matplotlib.org/stable/api/_as_gen/matplotlib.pyplot.quiver.html)"
   ]
  },
  {
   "cell_type": "code",
   "execution_count": 45,
   "id": "c9b501e1",
   "metadata": {},
   "outputs": [
    {
     "name": "stderr",
     "output_type": "stream",
     "text": [
      "Matplotlib is building the font cache; this may take a moment.\n"
     ]
    }
   ],
   "source": [
    "import matplotlib.pyplot as plt"
   ]
  },
  {
   "cell_type": "code",
   "execution_count": 106,
   "id": "25358028",
   "metadata": {},
   "outputs": [
    {
     "name": "stdout",
     "output_type": "stream",
     "text": [
      "a = [0 3], b = [1 2]\n",
      "Random strain field:\n",
      " [[2 1]\n",
      " [3 2]]\n",
      "Area before strain: 3\n",
      "Area after strain: 18\n"
     ]
    },
    {
     "data": {
      "image/png": "[encoded data removed]",
      "text/plain": [
       "<Figure size 432x288 with 1 Axes>"
      ]
     },
     "metadata": {
      "needs_background": "light"
     },
     "output_type": "display_data"
    }
   ],
   "source": [
    "# arbitrary vectors\n",
    "a = np.random.randint(0,4,2)\n",
    "b = np.random.randint(0,4,2)\n",
    "print(\"a = {}, b = {}\".format(a,b))\n",
    "\n",
    "# arbitrary strain field\n",
    "arr = np.random.randint(0,4,4)\n",
    "strain2D = np.reshape(arr, (2,2))\n",
    "print(\"Random strain field:\\n {}\".format(strain2D))\n",
    "\n",
    "# Area prior deformation\n",
    "area_prior = abs(np.cross(a,b))\n",
    "print(\"Area before strain: {}\".format(area_prior))\n",
    "\n",
    "# Deformation w.r.t vectors (slide 17)\n",
    "a2 =  strain2D @ a\n",
    "b2 =  strain2D @ b\n",
    "\n",
    "# Area post deformation\n",
    "a_post =  a + strain2D @ a\n",
    "b_post =  b + strain2D @ b\n",
    "area_post = abs(np.cross(a_post,b_post))\n",
    "print(\"Area after strain: {}\".format(area_post))\n",
    "\n",
    "# Plot\n",
    "fig, ax = plt.subplots()\n",
    "\n",
    "# origin\n",
    "tail = [[0, 0, 0, 0], [0, 0, 0, 0]]\n",
    "\n",
    "ax.quiver(*tail,\n",
    "          [a[0], b[0], a_post[0], b_post[0]],\n",
    "          [a[1], b[1], a_post[1], b_post[1]],\n",
    "          color=['r', 'r', 'b', 'b'],\n",
    "          angles='xy', scale_units='xy', scale=1)\n",
    "#ax.axis([min(min(a),min(b),min(a_post),min(b_post)),max(max(a),max(b),max(a_post),max(b_post)),min(min(a),min(b),min(a_post),min(b_post)),max(max(a),max(b),max(a_post),max(b_post))])\n",
    "ax.axis([-10,10, -10,10])\n",
    "plt.show()"
   ]
  },
  {
   "cell_type": "code",
   "execution_count": 107,
   "id": "e70bad70",
   "metadata": {},
   "outputs": [
    {
     "data": {
      "image/png": "[encoded data removed]",
      "text/plain": [
       "<Figure size 432x288 with 1 Axes>"
      ]
     },
     "metadata": {
      "needs_background": "light"
     },
     "output_type": "display_data"
    }
   ],
   "source": [
    "# Plot - add vector from Slide 17\n",
    "fig, ax = plt.subplots()\n",
    "\n",
    "# adjusted origin\n",
    "tail = [[0, 0, a[0], b[0], 0, 0], [0, 0, a[1], b[1], 0, 0]]\n",
    "\n",
    "ax.quiver(*tail,\n",
    "          [a[0], b[0], a2[0], b2[0], a_post[0], b_post[0]],\n",
    "          [a[1], b[1], a2[1], b2[1], a_post[1], b_post[1]],\n",
    "          color=['r', 'r', 'b', 'b', 'g', 'g'],\n",
    "          angles='xy', scale_units='xy', scale=1)\n",
    "#ax.axis([min(min(a),min(b),min(a_post),min(b_post)),max(max(a),max(b),max(a_post),max(b_post)),min(min(a),min(b),min(a_post),min(b_post)),max(max(a),max(b),max(a_post),max(b_post))])\n",
    "ax.axis([-10,10, -10,10])\n",
    "plt.show()"
   ]
  },
  {
   "cell_type": "markdown",
   "id": "b7cd9c0b",
   "metadata": {},
   "source": [
    "### #4 \n",
    "4. Using the results from the previous notebook compare for appropriate strain\n",
    "\ttensors the length change (before deformation after deformation)\n",
    "\tusing vector operations (exact) and the linearization (l0\n",
    "\tis length of y, l is length of y after deformation)."
   ]
  },
  {
   "cell_type": "code",
   "execution_count": 136,
   "id": "ce191bf0",
   "metadata": {},
   "outputs": [
    {
     "name": "stdout",
     "output_type": "stream",
     "text": [
      "y = [1 0]\n",
      "Random strain field:\n",
      " [[1 2]\n",
      " [2 3]]\n",
      "y_post= [2 2]\n",
      "Length of y prior: 1.0\n",
      "Length of y post (vector operation): 2.8284271247461903\n",
      "Relative length change (exact): 1.8284271247461903\n",
      "Relative length change (linearization): 1.0\n"
     ]
    }
   ],
   "source": [
    "#y = np.random.randint(0,4,2)\n",
    "#print(\"y = {}\".format(y))\n",
    "#\n",
    "## arbitrary strain field\n",
    "#arr = np.random.randint(0,4,4)\n",
    "#strain2D = np.reshape(arr, (2,2))\n",
    "##strain2D = 1e-7 * np.array(strain2D)\n",
    "#print(\"Random strain field:\\n {}\".format(strain2D))\n",
    "\n",
    "# from Nico\n",
    "y = np.array([1,0])\n",
    "strain2D = np.array(([1,2], [2,3])) #* 1e-6\n",
    "print(\"y = {}\".format(y))\n",
    "print(\"Random strain field:\\n {}\".format(strain2D))\n",
    "\n",
    "\n",
    "# post deformation - vector operation\n",
    "y_post = y + strain2D @ y\n",
    "print(\"y_post = {}\".format(y_post))\n",
    "\n",
    "\n",
    "print(f\"Length of y prior: {np.linalg.norm(y)}\")\n",
    "print(f\"Length of y post (vector operation): {np.linalg.norm(y_post)}\")\n",
    "print(f\"Relative length change (exact): {(np.linalg.norm(y_post) - np.linalg.norm(y)) / np.linalg.norm(y)}\")\n",
    "\n",
    "# post deformation - linearization (slide 22)\n",
    "rlc = 0 # initialize relative length change\n",
    "for i in range(2):\n",
    "    for j in range(2):\n",
    "        rlc = rlc + strain2D[i,j] * y[i] * y[j] / (np.linalg.norm(y)**2)\n",
    "#rlc = rlc / (np.linalg.norm(y)**2)\n",
    "\n",
    "print(f\"Relative length change (linearization): {rlc}\")"
   ]
  },
  {
   "cell_type": "markdown",
   "id": "806dc259",
   "metadata": {},
   "source": [
    "### 5.\n",
    "5. What is the action of $\\xi_{ij}$ - the antisymmetric part of the gradient - on vector y? Write a Jupyter notebook to calculate, quantify, and visualize that action.\n",
    "\n",
    "The rotation tensor represents the **anti-symmetric** part within the relation between deformation and displacement in linear elasticity.\n",
    "\\begin{equation}\n",
    "\\xi{ij} = \\frac{1}{2} ( \\frac{\\partial u_i}{\\partial x_j} - \\frac{\\partial u_j}{\\partial x_i})\n",
    "\\end{equation}\n",
    "\n",
    "and can be written in 3D as follows:\n",
    "$$\\xi{ij} = \\begin{pmatrix}\n",
    "0 & \\xi{12} & \\xi{13} \\\\\n",
    "-\\xi{12} & 0 & \\xi{23} \\\\\n",
    "-\\xi{13} & -\\xi{23} & 0 \\\\\n",
    "\\end{pmatrix}$$\n",
    "\n",
    "Furthermore it exists the following equation for a rigid body rotation:\n",
    "\\begin{equation}\n",
    "\\vec{\\xi} \\times \\vec{y}\n",
    "\\end{equation}"
   ]
  },
  {
   "cell_type": "code",
   "execution_count": 151,
   "id": "80b2e0ba",
   "metadata": {},
   "outputs": [
    {
     "name": "stdout",
     "output_type": "stream",
     "text": [
      "xi = \n",
      "[[ 0  1]\n",
      " [-1  0]]\n",
      "y = [1 0]\n",
      "Action = [ 1 -1]\n"
     ]
    },
    {
     "data": {
      "image/png": "[encoded data removed]",
      "text/plain": [
       "<Figure size 432x288 with 1 Axes>"
      ]
     },
     "metadata": {
      "needs_background": "light"
     },
     "output_type": "display_data"
    }
   ],
   "source": [
    "# Assume 2D only and the folllowing rotation tensor\n",
    "xi = np.array(([0,1], [-1,0]))\n",
    "print(\"xi = \\n{}\".format(xi))\n",
    "\n",
    "# y comes from Exercise 4\n",
    "print(\"y = {}\".format(y))\n",
    "\n",
    "# Calculate action\n",
    "#action = np.cross(xi,y)\n",
    "action = y + xi @ y\n",
    "# Which of these ones to use?\n",
    "print(\"Action = {}\".format(action))\n",
    "\n",
    "# Plot action\n",
    "fig, ax = plt.subplots()\n",
    "\n",
    "# origin\n",
    "tail = [[0, 0], [0, 0]]\n",
    "\n",
    "ax.quiver(*tail,\n",
    "          [y[0], action[0]],\n",
    "          [y[1], action[1]],\n",
    "          color=['r', 'b'],\n",
    "          angles='xy', scale_units='xy', scale=1)\n",
    "ax.axis([-10,10, -10,10])\n",
    "plt.show()"
   ]
  },
  {
   "cell_type": "markdown",
   "id": "c7e9be34",
   "metadata": {},
   "source": [
    "double check result above!!\n",
    "\n",
    "y2 = y + rot_2d @ y  ??"
   ]
  },
  {
   "cell_type": "markdown",
   "id": "0808f2f6",
   "metadata": {},
   "source": [
    "### #6.\n",
    "6. Derive the equations for strain and rotation tensors from the formulation of the wavefield gradient."
   ]
  }
 ],
 "metadata": {
  "kernelspec": {
   "display_name": "Python 3 (ipykernel)",
   "language": "python",
   "name": "python3"
  },
  "language_info": {
   "codemirror_mode": {
    "name": "ipython",
    "version": 3
   },
   "file_extension": ".py",
   "mimetype": "text/x-python",
   "name": "python",
   "nbconvert_exporter": "python",
   "pygments_lexer": "ipython3",
   "version": "3.9.6"
  }
 },
 "nbformat": 4,
 "nbformat_minor": 5
}
