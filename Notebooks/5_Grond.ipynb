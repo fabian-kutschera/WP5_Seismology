{
 "cells": [
  {
   "cell_type": "markdown",
   "id": "d9a5e729",
   "metadata": {},
   "source": [
    "# Bayesian Inversion using Grond\n",
    "\n",
    "`conda activate pygmt` (my anaconda environment with grond)"
   ]
  },
  {
   "cell_type": "code",
   "execution_count": 5,
   "id": "c9469677",
   "metadata": {},
   "outputs": [],
   "source": [
    "import grond as grond"
   ]
  },
  {
   "cell_type": "markdown",
   "id": "d30f10ee",
   "metadata": {},
   "source": [
    "Install Grond https://pyrocko.org/grond/docs/current/ .\n",
    "\n",
    "\n",
    "And perform the following examples \n",
    "1. https://pyrocko.org/grond/docs/current/quickstart/index.html#a-synthetic-test\n",
    "2. https://pyrocko.org/grond/docs/current/examples/waveform_regional/index.html\n",
    "3. https://pyrocko.org/grond/docs/current/examples/satellite_insar/index.html"
   ]
  }
 ],
 "metadata": {
  "kernelspec": {
   "display_name": "Python 3 (ipykernel)",
   "language": "python",
   "name": "python3"
  },
  "language_info": {
   "codemirror_mode": {
    "name": "ipython",
    "version": 3
   },
   "file_extension": ".py",
   "mimetype": "text/x-python",
   "name": "python",
   "nbconvert_exporter": "python",
   "pygments_lexer": "ipython3",
   "version": "3.9.7"
  }
 },
 "nbformat": 4,
 "nbformat_minor": 5
}
