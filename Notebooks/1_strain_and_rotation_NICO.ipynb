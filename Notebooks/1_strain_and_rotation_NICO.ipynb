{
 "cells": [
  {
   "cell_type": "markdown",
   "metadata": {},
   "source": [
    "# Strain and Rotation"
   ]
  },
  {
   "cell_type": "code",
   "execution_count": 2,
   "metadata": {},
   "outputs": [],
   "source": [
    "# Imports\n",
    "\n",
    "import numpy as np\n",
    "import matplotlib.pyplot as plt\n",
    "#import sympy as sym\n",
    "#from sympy.vector import CoordSys3D, Del"
   ]
  },
  {
   "cell_type": "markdown",
   "metadata": {},
   "source": [
    "## Exercise 1"
   ]
  },
  {
   "cell_type": "markdown",
   "metadata": {},
   "source": [
    "The diagonal entries of the strain tensor $\\epsilon_{ij}$ describe volume changes and the off-diagonal entries describe shearing.\n",
    "\n",
    "$\\Delta V = \\int_S u_n \\, dS = \\int_V \\nabla \\vec{u} \\, dV  \\,$  (Gauß)\n",
    "\n",
    "$\\frac{\\Delta V}{V} = \\frac{1}{V} \\int_V \\nabla \\vec{u} \\, dV $\n",
    "\n",
    "$\\lim\\limits_{V \\to 0} \\, \\frac{\\Delta V}{V} = \\frac{1}{V} \\, \\nabla \\vec{u} \\int_V dV = \\nabla \\vec{u} \\,$ ($\\vec{u}$ constant within infinitesimal volume)\n",
    "\n",
    "$\\nabla \\vec{u} = \\frac{\\partial u_1}{\\partial x_1} + \\frac{\\partial u_2}{\\partial x_2} + \\frac{\\partial u_3}{\\partial x_3} = \\epsilon_{11} + \\epsilon_{22} + \\epsilon_{33} = \\epsilon_{ii}$\n",
    "\n"
   ]
  },
  {
   "cell_type": "markdown",
   "metadata": {},
   "source": [
    "## Exercise 2"
   ]
  },
  {
   "cell_type": "code",
   "execution_count": 44,
   "metadata": {},
   "outputs": [
    {
     "name": "stdout",
     "output_type": "stream",
     "text": [
      "e_11 = 2.000e-04  e_12 = 1.212e-05  e_13 = 1.833e-04\n",
      "e_21 = 1.212e-05  e_22 = -3.030e-05  e_23 = 4.394e-05\n",
      "e_31 = 1.833e-04  e_32 = 4.394e-05  e_33 = 1.333e-04\n",
      "Off-diagonal elements are wrong\n"
     ]
    }
   ],
   "source": [
    "u_zero = np.array([1500., 3300., 3000.])\n",
    "u_delta = np.array([0.3, -0.1, 0.4])\n",
    "\n",
    "def calculate_and_print_strain_tensor(original_volume, absolute_change):\n",
    "    for i in range(3):\n",
    "        e_i1 = 0.5 * (absolute_change[i] / original_volume[0] + absolute_change[0] / original_volume[i])\n",
    "        e_i2 = 0.5 * (absolute_change[i] / original_volume[1] + absolute_change[1] / original_volume[i])\n",
    "        e_i3 = 0.5 * (absolute_change[i] / original_volume[2] + absolute_change[2] / original_volume[i])\n",
    "        print(f'e_{i+1}1 = {e_i1:.3e}  e_{i+1}2 = {e_i2:.3e}  e_{i+1}3 = {e_i3:.3e}')\n",
    "        \n",
    "calculate_and_print_strain_tensor(u_zero, u_delta)\n",
    "\n",
    "print(\"Off-diagonal elements are wrong\")"
   ]
  },
  {
   "cell_type": "markdown",
   "metadata": {},
   "source": [
    "## Exercise 3"
   ]
  },
  {
   "cell_type": "code",
   "execution_count": 45,
   "metadata": {},
   "outputs": [
    {
     "name": "stdout",
     "output_type": "stream",
     "text": [
      "Area before deformation: 2.00\n",
      "Area after deformation: 8.00\n"
     ]
    },
    {
     "data": {
      "image/png": "[encoded data removed]",
      "text/plain": [
       "<Figure size 432x288 with 1 Axes>"
      ]
     },
     "metadata": {
      "needs_background": "light"
     },
     "output_type": "display_data"
    }
   ],
   "source": [
    "a = np.array([1,0])\n",
    "b = np.array([0,2])\n",
    "origin = np.array([[0,0,0,0], [0,0,0,0]])\n",
    "\n",
    "strain_2d = np.array(([1,2], [2,3]))\n",
    "\n",
    "def area_2vectors(a,b):\n",
    "    return abs(np.cross(a,b))\n",
    "\n",
    "res1 = area_2vectors(a,b)\n",
    "print(\"Area before deformation: %.2f\" % res1)\n",
    "\n",
    "a2 = a + (strain_2d @ a)\n",
    "b2 = b + (strain_2d @ b)\n",
    "\n",
    "res2 = area_2vectors(a2,b2)\n",
    "print(\"Area after deformation: %.2f\" % res2)\n",
    "\n",
    "plt.quiver(*origin, [a[0], b[0], a2[0], b2[0]], [a[1], b[1], a2[1], b2[1]], color=['r','r','b','b'], \n",
    "           angles='xy', scale_units='xy', scale=1)\n",
    "plt.xlim(-2, 10)\n",
    "plt.ylim(-2, 10)\n",
    "plt.show()"
   ]
  },
  {
   "cell_type": "markdown",
   "metadata": {},
   "source": [
    "## Exercise 4"
   ]
  },
  {
   "cell_type": "code",
   "execution_count": 5,
   "metadata": {},
   "outputs": [
    {
     "name": "stdout",
     "output_type": "stream",
     "text": [
      "Length of y: 1.000000000000000\n",
      "Length of y2: 2.828427124746190\n",
      "Relative length change: 2.828427124746190\n",
      "2.0\n",
      "Length of y3 (linearization): 2.000000000000000\n",
      "Relative length change: 2.000000000000000\n",
      "Ratio of y2 to y3: 1.414213562373095\n"
     ]
    },
    {
     "data": {
      "image/png": "[encoded data removed]",
      "text/plain": [
       "<Figure size 432x288 with 1 Axes>"
      ]
     },
     "metadata": {
      "needs_background": "light"
     },
     "output_type": "display_data"
    }
   ],
   "source": [
    "#y = np.array([1/np.sqrt(2), 1/np.sqrt(2)])\n",
    "y = np.array([1,0])\n",
    "\n",
    "strain_2d_small = np.array(([1,2], [2,3])) #* 1e-6\n",
    "\n",
    "y2 = y + (strain_2d_small @ y)\n",
    "\n",
    "print(f\"Length of y: {np.linalg.norm(y):0.15f}\")\n",
    "print(f\"Length of y2: {np.linalg.norm(y2):0.15f}\")\n",
    "print(f\"Relative length change: {np.linalg.norm(y2) / np.linalg.norm(y):0.15f}\")\n",
    "\n",
    "def deformed_vector_linear(y, tensor):\n",
    "    y2 = 0\n",
    "    for i in range(2):\n",
    "        for j in range(2):\n",
    "            y2 += tensor[i,j] * y[i] * y[j]\n",
    "    return y2 / np.linalg.norm(y) + np.linalg.norm(y)  # DOUBLE CHECK IF CORRECT\n",
    "    #return y2 / np.linalg.norm(y) ** np.linalg.norm(y)\n",
    "\n",
    "\n",
    "y3 = deformed_vector_linear(y, strain_2d_small)\n",
    "print(y3)\n",
    "\n",
    "print(f\"Length of y3 (linearization): {np.linalg.norm(y3):0.15f}\")\n",
    "print(f\"Relative length change: {np.linalg.norm(y3) / np.linalg.norm(y):0.15f}\")\n",
    "print(f\"Ratio of y2 to y3: {np.linalg.norm(y2) / np.linalg.norm(y3):0.15f}\")\n",
    "\n",
    "\n",
    "xvalues = np.geomspace(1e-10, 1, 10)\n",
    "yvalues=np.zeros_like(xvalues)\n",
    "\n",
    "for i in range(len(xvalues)):\n",
    "    strain_2d_small = np.array(([1,2], [2,3])) * xvalues[i]\n",
    "    y2 = y + (strain_2d_small @ y)\n",
    "    y3 = deformed_vector_linear(y, strain_2d_small)\n",
    "    yvalues[i] = np.linalg.norm(y3)/np.linalg.norm(y2)\n",
    "    \n",
    "plt.loglog(xvalues, yvalues)\n",
    "plt.xlabel(\"order of strain magnitude\")\n",
    "plt.title(\"ratio of y3 to y2\")\n",
    "plt.show()\n"
   ]
  },
  {
   "cell_type": "markdown",
   "metadata": {},
   "source": [
    "## Exercise 5"
   ]
  },
  {
   "cell_type": "code",
   "execution_count": 47,
   "metadata": {},
   "outputs": [
    {
     "name": "stdout",
     "output_type": "stream",
     "text": [
      "Rigid body rotation\n",
      "Rotation angle: 45.0\n"
     ]
    },
    {
     "data": {
      "image/png": "[encoded data removed]",
      "text/plain": [
       "<Figure size 432x288 with 1 Axes>"
      ]
     },
     "metadata": {
      "needs_background": "light"
     },
     "output_type": "display_data"
    }
   ],
   "source": [
    "y = np.array([1.,0.])\n",
    "z = np.array([0.,1.])\n",
    "\n",
    "rot_2d = np.array(([0,-1], [1,0])) #* 1/np.sqrt(2)\n",
    "\n",
    "y2 = y + rot_2d @ y\n",
    "z2 = z + (rot_2d @ z)\n",
    "\n",
    "theta = np.arctan(y2[1]/y[0]) * 360 / (2*np.pi)\n",
    "print(\"Rigid body rotation\")\n",
    "print(f\"Rotation angle: {theta}\")\n",
    "origin = np.array([[0,0,0,0], [0,0,0,0]])\n",
    "plt.quiver(*origin, [y[0], z[0], y2[0], z2[0]], [y[1], z[1], y2[1], z2[1]], color=['r','r','b','b'], \n",
    "           angles='xy', scale_units='xy', scale=1)\n",
    "plt.axis('equal')\n",
    "plt.xlim(-2, 3)\n",
    "plt.ylim(-2, 3)\n",
    "plt.show()\n"
   ]
  },
  {
   "cell_type": "markdown",
   "metadata": {},
   "source": [
    "## Exercise 6"
   ]
  },
  {
   "cell_type": "code",
   "execution_count": 48,
   "metadata": {},
   "outputs": [
    {
     "data": {
      "text/latex": [
       "$\\displaystyle \\left[\\begin{matrix}dxu_{x} & dyu_{x} & dzu_{x}\\\\dxu_{y} & dyu_{y} & dzu_{y}\\\\dxu_{z} & dyu_{z} & dzu_{z}\\end{matrix}\\right]$"
      ],
      "text/plain": [
       "Matrix([\n",
       "[dxu_x, dyu_x, dzu_x],\n",
       "[dxu_y, dyu_y, dzu_y],\n",
       "[dxu_z, dyu_z, dzu_z]])"
      ]
     },
     "execution_count": 48,
     "metadata": {},
     "output_type": "execute_result"
    }
   ],
   "source": [
    "# deformation matrix (wavefield gradient)\n",
    "dx_ux, dx_uy, dx_uz = sym.symbols('dxu_x, dxu_y, dxu_z')\n",
    "dy_ux, dy_uy, dy_uz = sym.symbols('dyu_x, dyu_y, dyu_z')\n",
    "dz_ux, dz_uy, dz_uz = sym.symbols('dzu_x, dzu_y, dzu_z')\n",
    "\n",
    "J = sym.Matrix([[dx_ux, dy_ux, dz_ux], [dx_uy, dy_uy, dz_uy], [dx_uz, dy_uz, dz_uz]])\n",
    "\n",
    "J"
   ]
  },
  {
   "cell_type": "code",
   "execution_count": 49,
   "metadata": {},
   "outputs": [
    {
     "data": {
      "text/plain": [
       "True"
      ]
     },
     "execution_count": 49,
     "metadata": {},
     "output_type": "execute_result"
    }
   ],
   "source": [
    "J * 1. == 0.5 * (J + J.transpose()) + 0.5 * (J - J.transpose())"
   ]
  },
  {
   "cell_type": "code",
   "execution_count": 50,
   "metadata": {},
   "outputs": [
    {
     "data": {
      "text/latex": [
       "$\\displaystyle \\left[\\begin{matrix}1.0 dxu_{x} & 0.5 dxu_{y} + 0.5 dyu_{x} & 0.5 dxu_{z} + 0.5 dzu_{x}\\\\0.5 dxu_{y} + 0.5 dyu_{x} & 1.0 dyu_{y} & 0.5 dyu_{z} + 0.5 dzu_{y}\\\\0.5 dxu_{z} + 0.5 dzu_{x} & 0.5 dyu_{z} + 0.5 dzu_{y} & 1.0 dzu_{z}\\end{matrix}\\right]$"
      ],
      "text/plain": [
       "Matrix([\n",
       "[            1.0*dxu_x, 0.5*dxu_y + 0.5*dyu_x, 0.5*dxu_z + 0.5*dzu_x],\n",
       "[0.5*dxu_y + 0.5*dyu_x,             1.0*dyu_y, 0.5*dyu_z + 0.5*dzu_y],\n",
       "[0.5*dxu_z + 0.5*dzu_x, 0.5*dyu_z + 0.5*dzu_y,             1.0*dzu_z]])"
      ]
     },
     "execution_count": 50,
     "metadata": {},
     "output_type": "execute_result"
    }
   ],
   "source": [
    "# strain tensor (symmetric part)\n",
    "\n",
    "0.5 * (J + J.transpose())"
   ]
  },
  {
   "cell_type": "code",
   "execution_count": 51,
   "metadata": {},
   "outputs": [
    {
     "data": {
      "text/latex": [
       "$\\displaystyle \\left[\\begin{matrix}0 & - 0.5 dxu_{y} + 0.5 dyu_{x} & - 0.5 dxu_{z} + 0.5 dzu_{x}\\\\0.5 dxu_{y} - 0.5 dyu_{x} & 0 & - 0.5 dyu_{z} + 0.5 dzu_{y}\\\\0.5 dxu_{z} - 0.5 dzu_{x} & 0.5 dyu_{z} - 0.5 dzu_{y} & 0\\end{matrix}\\right]$"
      ],
      "text/plain": [
       "Matrix([\n",
       "[                    0, -0.5*dxu_y + 0.5*dyu_x, -0.5*dxu_z + 0.5*dzu_x],\n",
       "[0.5*dxu_y - 0.5*dyu_x,                      0, -0.5*dyu_z + 0.5*dzu_y],\n",
       "[0.5*dxu_z - 0.5*dzu_x,  0.5*dyu_z - 0.5*dzu_y,                      0]])"
      ]
     },
     "execution_count": 51,
     "metadata": {},
     "output_type": "execute_result"
    }
   ],
   "source": [
    "# rotation tensor (antisymmetric part)\n",
    "\n",
    "0.5 * (J - J.transpose())"
   ]
  },
  {
   "cell_type": "code",
   "execution_count": 52,
   "metadata": {},
   "outputs": [
    {
     "data": {
      "text/latex": [
       "$\\displaystyle (- y_{y} \\left(- \\frac{d}{d \\mathbf{{y}_{N}}} u_{x} + \\frac{d}{d \\mathbf{{x}_{N}}} u_{y}\\right) + y_{z} \\left(\\frac{d}{d \\mathbf{{z}_{N}}} u_{x} - \\frac{d}{d \\mathbf{{x}_{N}}} u_{z}\\right))\\mathbf{\\hat{i}_{N}} + (y_{x} \\left(- \\frac{d}{d \\mathbf{{y}_{N}}} u_{x} + \\frac{d}{d \\mathbf{{x}_{N}}} u_{y}\\right) - y_{z} \\left(- \\frac{d}{d \\mathbf{{z}_{N}}} u_{y} + \\frac{d}{d \\mathbf{{y}_{N}}} u_{z}\\right))\\mathbf{\\hat{j}_{N}} + (- y_{x} \\left(\\frac{d}{d \\mathbf{{z}_{N}}} u_{x} - \\frac{d}{d \\mathbf{{x}_{N}}} u_{z}\\right) + y_{y} \\left(- \\frac{d}{d \\mathbf{{z}_{N}}} u_{y} + \\frac{d}{d \\mathbf{{y}_{N}}} u_{z}\\right))\\mathbf{\\hat{k}_{N}}$"
      ],
      "text/plain": [
       "(-y_y*(-Derivative(u_x, N.y) + Derivative(u_y, N.x)) + y_z*(Derivative(u_x, N.z) - Derivative(u_z, N.x)))*N.i + (y_x*(-Derivative(u_x, N.y) + Derivative(u_y, N.x)) - y_z*(-Derivative(u_y, N.z) + Derivative(u_z, N.y)))*N.j + (-y_x*(Derivative(u_x, N.z) - Derivative(u_z, N.x)) + y_y*(-Derivative(u_y, N.z) + Derivative(u_z, N.y)))*N.k"
      ]
     },
     "execution_count": 52,
     "metadata": {},
     "output_type": "execute_result"
    }
   ],
   "source": [
    "u_x, u_y, u_z = sym.symbols('u_x, u_y, u_z')\n",
    "y_x, y_y, y_z = sym.symbols('y_x, y_y, y_z')\n",
    "\n",
    "N = CoordSys3D('N')\n",
    "\n",
    "u_vec = u_x*N.i + u_y*N.j + u_z*N.k\n",
    "y_vec = y_x*N.i + y_y*N.j + y_z*N.k\n",
    "\n",
    "nabla = Del()\n",
    "\n",
    "res1 = nabla.cross(u_vec)\n",
    "\n",
    "res1.cross(y_vec)"
   ]
  },
  {
   "cell_type": "code",
   "execution_count": null,
   "metadata": {},
   "outputs": [],
   "source": []
  }
 ],
 "metadata": {
  "kernelspec": {
   "display_name": "Python 3 (ipykernel)",
   "language": "python",
   "name": "python3"
  },
  "language_info": {
   "codemirror_mode": {
    "name": "ipython",
    "version": 3
   },
   "file_extension": ".py",
   "mimetype": "text/x-python",
   "name": "python",
   "nbconvert_exporter": "python",
   "pygments_lexer": "ipython3",
   "version": "3.9.7"
  }
 },
 "nbformat": 4,
 "nbformat_minor": 4
}
